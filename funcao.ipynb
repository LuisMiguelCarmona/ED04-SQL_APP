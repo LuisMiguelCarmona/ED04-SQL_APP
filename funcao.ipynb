{
 "cells": [
  {
   "cell_type": "code",
   "execution_count": 1,
   "metadata": {},
   "outputs": [],
   "source": [
    "import tkinter as tk\n",
    "from PIL import ImageTk, Image\n",
    "import os"
   ]
  },
  {
   "cell_type": "code",
   "execution_count": 9,
   "metadata": {},
   "outputs": [],
   "source": [
    "def estate(valor, top):#Fecha a janela e vai pra proxima/saída\n",
    "    global state\n",
    "    state = valor\n",
    "    return top.destroy()\n",
    "\n",
    "def imagem(top,path): #Coloca um widget de imagem\n",
    "    imagem = ImageTk.PhotoImage(Image.open(path))\n",
    "    label = tk.Label(top,image = imagem,relief = \"flat\")\n",
    "    label.image = imagem\n",
    "    return label\n",
    "\n",
    "def btimg(top, path, comando): #Cria um widget de botão com imagem\n",
    "    img = ImageTk.PhotoImage(Image.open(path))\n",
    "    botao = tk.Button(top, image = img,command = comando)\n",
    "    botao.image = img\n",
    "    return botao\n",
    "    \n",
    "def menuinicial():\n",
    "    top = tk.Tk()\n",
    "    \n",
    "    label = imagem(top,\"./Imagens/menuinicial.png\")\n",
    "    label.pack()\n",
    "    \n",
    "    segurador = tk.Frame(top)\n",
    "    segurador.pack()\n",
    "\n",
    "    btn = btimg(segurador,\"./Imagens/Botões/MENUINICIAL.png\",lambda: estate(1,top))\n",
    "    btn.pack(side='left',padx=30)\n",
    "    \n",
    "    btn = btimg(segurador,\"./Imagens/Botões/SAIR.png\",lambda: estate(-1,top))\n",
    "    btn.pack(side='left')\n",
    "    \n",
    "    label = imagem(top,\"./Imagens/vazio.png\")\n",
    "    label.pack()\n",
    "\n",
    "    return top\n",
    "\n",
    "def menuselec():\n",
    "    top = tk.Tk()\n",
    "    \n",
    "    \n",
    "    label = imagem(top,\"./Imagens/vazio.png\")\n",
    "    label.pack()\n",
    "    \n",
    "    segurador = tk.Frame(top)\n",
    "    segurador.pack()\n",
    "\n",
    "    \n",
    "    btn = btimg(segurador,\"./Imagens/Botões/MAPA.png\",lambda: estate(2,top))\n",
    "    btn.pack(side='left',padx=30)\n",
    "\n",
    "    \n",
    "    btn = btimg(segurador,\"./Imagens/Botões/RELATORIO.png\",lambda: estate(3,top))\n",
    "    btn.pack(side='left',padx=30)\n",
    "    \n",
    "    label = imagem(top,\"./Imagens/vazio.png\")\n",
    "    label.pack()\n",
    "    \n",
    "    segurador2 = tk.Frame(top)\n",
    "    segurador2.pack()\n",
    "\n",
    "    \n",
    "    btn = btimg(segurador2,\"./Imagens/Botões/GERE.png\",lambda: estate(4,top))\n",
    "    btn.pack(side='left',padx=30)\n",
    "    \n",
    "    btn = btimg(segurador2,\"./Imagens/Botões/VOLTAR.png\",lambda: estate(0,top))\n",
    "    btn.pack(side='left',padx=30)\n",
    "    \n",
    "    label = imagem(top,\"./Imagens/vazio.png\")\n",
    "    label.pack()\n",
    "    \n",
    "    return top\n",
    "    \n"
   ]
  },
  {
   "cell_type": "code",
   "execution_count": 10,
   "metadata": {
    "scrolled": false
   },
   "outputs": [],
   "source": [
    "state = 0\n",
    "\n",
    "L = [menuinicial,menuselec]\n",
    "\n",
    "while True:\n",
    "    top = L[state]()\n",
    "    top.mainloop()\n",
    "    if state == -1:\n",
    "        break"
   ]
  },
  {
   "cell_type": "code",
   "execution_count": null,
   "metadata": {},
   "outputs": [],
   "source": []
  },
  {
   "cell_type": "code",
   "execution_count": null,
   "metadata": {},
   "outputs": [],
   "source": []
  }
 ],
 "metadata": {
  "kernelspec": {
   "display_name": "Python 3",
   "language": "python",
   "name": "python3"
  },
  "language_info": {
   "codemirror_mode": {
    "name": "ipython",
    "version": 3
   },
   "file_extension": ".py",
   "mimetype": "text/x-python",
   "name": "python",
   "nbconvert_exporter": "python",
   "pygments_lexer": "ipython3",
   "version": "3.7.3"
  }
 },
 "nbformat": 4,
 "nbformat_minor": 2
}
